{
 "cells": [
  {
   "cell_type": "markdown",
   "id": "203f3463",
   "metadata": {},
   "source": [
    "# Does price skew negative or positve in January 2022 in the SPP ISO region?"
   ]
  },
  {
   "cell_type": "markdown",
   "id": "2e9fe4b5",
   "metadata": {},
   "source": [
    "To identify where a node is having a strong positive, negative, or indifferent LMP bias, I will compare the LMP values of the node with the LMP values of its neighboring nodes through January 2022. Here are the steps I will follow:\n",
    "\n",
    "1. Calculate the average LMP value for the node and its neighboring nodes for each 5 minute period in Jan 2022.\n",
    "2. Subtract the node's LMP value for that 5 min period from the average LMP value calculated in step 1 to get the bias value.\n",
    "3. If the bias value is positive, the node has a positive LMP bias, indicating that it is receiving a higher LMP compared to its neighbors. If the bias value is negative, the node has a negative LMP bias, indicating that it is receiving a lower LMP compared to its neighbors. If the bias value is zero, the node has an indifferent LMP bias, indicating that it is receiving the same LMP as its neighbors.\n",
    "4. For this analysis I will consider a strong bias to be within 2 standard deviations of the mean for that 5 min period"
   ]
  },
  {
   "cell_type": "markdown",
   "id": "93d77ddb",
   "metadata": {},
   "source": [
    "#### Load packages:"
   ]
  },
  {
   "cell_type": "code",
   "execution_count": 1,
   "id": "0d00b8d1",
   "metadata": {},
   "outputs": [],
   "source": [
    "import pandas as pd\n",
    "import numpy as np\n",
    "import warnings\n",
    "warnings.filterwarnings('ignore')\n",
    "import matplotlib.pyplot as plt"
   ]
  },
  {
   "cell_type": "markdown",
   "id": "4e1b909c",
   "metadata": {},
   "source": [
    "#### Load Data:"
   ]
  },
  {
   "cell_type": "code",
   "execution_count": 2,
   "id": "9453caf8",
   "metadata": {},
   "outputs": [],
   "source": [
    "#Function that will pull data based on start and end date\n",
    "def read_csv_files(start_date, end_date):\n",
    "    data = []\n",
    "    date = pd.to_datetime(start_date, format='%Y%m%d')\n",
    "    end = pd.to_datetime(end_date, format='%Y%m%d')\n",
    "    while date <= end:\n",
    "        filename = \"RTBM-LMP-DAILY-SL-\" + date.strftime('%Y%m%d') + \".csv\"\n",
    "        df = pd.read_csv(filename)\n",
    "        data.append(df)\n",
    "        date += pd.DateOffset(days=1)\n",
    "    return pd.concat(data)"
   ]
  },
  {
   "cell_type": "code",
   "execution_count": 3,
   "id": "c4bcd625",
   "metadata": {},
   "outputs": [
    {
     "data": {
      "text/html": [
       "<div>\n",
       "<style scoped>\n",
       "    .dataframe tbody tr th:only-of-type {\n",
       "        vertical-align: middle;\n",
       "    }\n",
       "\n",
       "    .dataframe tbody tr th {\n",
       "        vertical-align: top;\n",
       "    }\n",
       "\n",
       "    .dataframe thead th {\n",
       "        text-align: right;\n",
       "    }\n",
       "</style>\n",
       "<table border=\"1\" class=\"dataframe\">\n",
       "  <thead>\n",
       "    <tr style=\"text-align: right;\">\n",
       "      <th></th>\n",
       "      <th>Interval</th>\n",
       "      <th>GMT Interval</th>\n",
       "      <th>Settlement Location Name</th>\n",
       "      <th>PNODE Name</th>\n",
       "      <th>LMP</th>\n",
       "      <th>MLC</th>\n",
       "      <th>MCC</th>\n",
       "      <th>MEC</th>\n",
       "    </tr>\n",
       "  </thead>\n",
       "  <tbody>\n",
       "    <tr>\n",
       "      <th>0</th>\n",
       "      <td>01/01/2022 00:05:00</td>\n",
       "      <td>2022-01-01 06:05:00</td>\n",
       "      <td>AEC</td>\n",
       "      <td>SOUC</td>\n",
       "      <td>28.4229</td>\n",
       "      <td>0.1388</td>\n",
       "      <td>24.9790</td>\n",
       "      <td>3.3051</td>\n",
       "    </tr>\n",
       "    <tr>\n",
       "      <th>1</th>\n",
       "      <td>01/01/2022 00:05:00</td>\n",
       "      <td>2022-01-01 06:05:00</td>\n",
       "      <td>AECC_CSWS</td>\n",
       "      <td>CSWS_AECC_LA</td>\n",
       "      <td>29.3969</td>\n",
       "      <td>0.1362</td>\n",
       "      <td>25.9557</td>\n",
       "      <td>3.3050</td>\n",
       "    </tr>\n",
       "    <tr>\n",
       "      <th>2</th>\n",
       "      <td>01/01/2022 00:05:00</td>\n",
       "      <td>2022-01-01 06:05:00</td>\n",
       "      <td>AECC_ELKINS</td>\n",
       "      <td>CSWSELKINSUNELKINS_RA</td>\n",
       "      <td>16.9652</td>\n",
       "      <td>0.0971</td>\n",
       "      <td>13.5631</td>\n",
       "      <td>3.3050</td>\n",
       "    </tr>\n",
       "    <tr>\n",
       "      <th>3</th>\n",
       "      <td>01/01/2022 00:05:00</td>\n",
       "      <td>2022-01-01 06:05:00</td>\n",
       "      <td>AECC_FITZHUGH</td>\n",
       "      <td>CSWSFITZHUGHPLT1</td>\n",
       "      <td>27.8842</td>\n",
       "      <td>0.1739</td>\n",
       "      <td>24.4053</td>\n",
       "      <td>3.3050</td>\n",
       "    </tr>\n",
       "    <tr>\n",
       "      <th>4</th>\n",
       "      <td>01/01/2022 00:05:00</td>\n",
       "      <td>2022-01-01 06:05:00</td>\n",
       "      <td>AECC_FLTCREEK</td>\n",
       "      <td>CSWSFLINTCRKUN1_JOU_AECC_RA</td>\n",
       "      <td>17.2851</td>\n",
       "      <td>0.0530</td>\n",
       "      <td>13.9271</td>\n",
       "      <td>3.3050</td>\n",
       "    </tr>\n",
       "    <tr>\n",
       "      <th>...</th>\n",
       "      <td>...</td>\n",
       "      <td>...</td>\n",
       "      <td>...</td>\n",
       "      <td>...</td>\n",
       "      <td>...</td>\n",
       "      <td>...</td>\n",
       "      <td>...</td>\n",
       "      <td>...</td>\n",
       "    </tr>\n",
       "    <tr>\n",
       "      <th>318235</th>\n",
       "      <td>01/31/2022 00:00:00</td>\n",
       "      <td>2022-01-31 06:00:00</td>\n",
       "      <td>WR_MOPEP_MPS</td>\n",
       "      <td>WR_MOPEP_MPS_LA</td>\n",
       "      <td>4.1600</td>\n",
       "      <td>-0.4424</td>\n",
       "      <td>-8.8968</td>\n",
       "      <td>13.4992</td>\n",
       "    </tr>\n",
       "    <tr>\n",
       "      <th>318236</th>\n",
       "      <td>01/31/2022 00:00:00</td>\n",
       "      <td>2022-01-31 06:00:00</td>\n",
       "      <td>WR_MW_KPP_NITS</td>\n",
       "      <td>WR_MW_KPP_NITS_LA</td>\n",
       "      <td>6.6183</td>\n",
       "      <td>-1.2139</td>\n",
       "      <td>-5.6670</td>\n",
       "      <td>13.4992</td>\n",
       "    </tr>\n",
       "    <tr>\n",
       "      <th>318237</th>\n",
       "      <td>01/31/2022 00:00:00</td>\n",
       "      <td>2022-01-31 06:00:00</td>\n",
       "      <td>WR_SEG</td>\n",
       "      <td>WR_SEG_LA</td>\n",
       "      <td>9.2777</td>\n",
       "      <td>-0.2168</td>\n",
       "      <td>-4.0048</td>\n",
       "      <td>13.4993</td>\n",
       "    </tr>\n",
       "    <tr>\n",
       "      <th>318238</th>\n",
       "      <td>01/31/2022 00:00:00</td>\n",
       "      <td>2022-01-31 06:00:00</td>\n",
       "      <td>WR_WR</td>\n",
       "      <td>WR_LA</td>\n",
       "      <td>5.8433</td>\n",
       "      <td>-0.7776</td>\n",
       "      <td>-6.8784</td>\n",
       "      <td>13.4993</td>\n",
       "    </tr>\n",
       "    <tr>\n",
       "      <th>318239</th>\n",
       "      <td>01/31/2022 00:00:00</td>\n",
       "      <td>2022-01-31 06:00:00</td>\n",
       "      <td>YAD</td>\n",
       "      <td>VACS</td>\n",
       "      <td>23.1284</td>\n",
       "      <td>0.1623</td>\n",
       "      <td>9.4669</td>\n",
       "      <td>13.4992</td>\n",
       "    </tr>\n",
       "  </tbody>\n",
       "</table>\n",
       "<p>9547200 rows × 8 columns</p>\n",
       "</div>"
      ],
      "text/plain": [
       "                   Interval        GMT Interval  Settlement Location Name  \\\n",
       "0       01/01/2022 00:05:00 2022-01-01 06:05:00                       AEC   \n",
       "1       01/01/2022 00:05:00 2022-01-01 06:05:00                 AECC_CSWS   \n",
       "2       01/01/2022 00:05:00 2022-01-01 06:05:00               AECC_ELKINS   \n",
       "3       01/01/2022 00:05:00 2022-01-01 06:05:00             AECC_FITZHUGH   \n",
       "4       01/01/2022 00:05:00 2022-01-01 06:05:00             AECC_FLTCREEK   \n",
       "...                     ...                 ...                       ...   \n",
       "318235  01/31/2022 00:00:00 2022-01-31 06:00:00              WR_MOPEP_MPS   \n",
       "318236  01/31/2022 00:00:00 2022-01-31 06:00:00            WR_MW_KPP_NITS   \n",
       "318237  01/31/2022 00:00:00 2022-01-31 06:00:00                    WR_SEG   \n",
       "318238  01/31/2022 00:00:00 2022-01-31 06:00:00                     WR_WR   \n",
       "318239  01/31/2022 00:00:00 2022-01-31 06:00:00                       YAD   \n",
       "\n",
       "                         PNODE Name      LMP     MLC      MCC      MEC  \n",
       "0                              SOUC  28.4229  0.1388  24.9790   3.3051  \n",
       "1                      CSWS_AECC_LA  29.3969  0.1362  25.9557   3.3050  \n",
       "2             CSWSELKINSUNELKINS_RA  16.9652  0.0971  13.5631   3.3050  \n",
       "3                  CSWSFITZHUGHPLT1  27.8842  0.1739  24.4053   3.3050  \n",
       "4       CSWSFLINTCRKUN1_JOU_AECC_RA  17.2851  0.0530  13.9271   3.3050  \n",
       "...                             ...      ...     ...      ...      ...  \n",
       "318235              WR_MOPEP_MPS_LA   4.1600 -0.4424  -8.8968  13.4992  \n",
       "318236            WR_MW_KPP_NITS_LA   6.6183 -1.2139  -5.6670  13.4992  \n",
       "318237                    WR_SEG_LA   9.2777 -0.2168  -4.0048  13.4993  \n",
       "318238                        WR_LA   5.8433 -0.7776  -6.8784  13.4993  \n",
       "318239                         VACS  23.1284  0.1623   9.4669  13.4992  \n",
       "\n",
       "[9547200 rows x 8 columns]"
      ]
     },
     "execution_count": 3,
     "metadata": {},
     "output_type": "execute_result"
    }
   ],
   "source": [
    "#Select dates between 20220101 and 20220130 (Month of Jan 2022)\n",
    "start_date = \"20220101\"\n",
    "end_date = \"20220130\"\n",
    "jan_22_df = read_csv_files(start_date, end_date)\n",
    "jan_22_df[' GMT Interval'] = pd.to_datetime(jan_22_df[' GMT Interval'], format='%m/%d/%Y %H:%M:%S')\n",
    "jan_22_df "
   ]
  },
  {
   "cell_type": "markdown",
   "id": "52c6edb9",
   "metadata": {},
   "source": [
    "# Create graph showing price on Y axis and time on X axis:"
   ]
  },
  {
   "cell_type": "code",
   "execution_count": 8,
   "id": "9fdbefdd",
   "metadata": {},
   "outputs": [
    {
     "data": {
      "image/png": "[encoded data removed]",
      "text/plain": [
       "<Figure size 1200x800 with 1 Axes>"
      ]
     },
     "metadata": {},
     "output_type": "display_data"
    }
   ],
   "source": [
    "import matplotlib.pyplot as plt\n",
    "fig, ax = plt.subplots(figsize=(12, 8))\n",
    "plt.plot(jan_22_df[' GMT Interval'], jan_22_df[' LMP'])\n",
    "ax.axhline(y=0, color='r', linestyle='--')\n",
    "plt.xlabel(' GMT Interval')\n",
    "plt.ylabel(' LMP')\n",
    "plt.title('LMP over Time Jan 2022')\n",
    "\n",
    "plt.show()"
   ]
  },
  {
   "cell_type": "markdown",
   "id": "d24d5dc8",
   "metadata": {},
   "source": [
    "#### Select one PNODE (SOUC) to examine across January could be repeated for any PNODE"
   ]
  },
  {
   "cell_type": "code",
   "execution_count": 9,
   "id": "b56e5d88",
   "metadata": {},
   "outputs": [
    {
     "data": {
      "image/png": "[encoded data removed]",
      "text/plain": [
       "<Figure size 1200x800 with 1 Axes>"
      ]
     },
     "metadata": {},
     "output_type": "display_data"
    }
   ],
   "source": [
    "SOUC_jan_22_df = jan_22_df[jan_22_df[' PNODE Name'] == 'SOUC']\n",
    "SOUC_jan_22_df[' GMT Interval'] = pd.to_datetime(SOUC_jan_22_df[' GMT Interval'], format='%m/%d/%Y %H:%M:%S')\n",
    "fig, ax = plt.subplots(figsize=(12, 8))\n",
    "plt.plot(SOUC_jan_22_df[' GMT Interval'], SOUC_jan_22_df[' LMP'])\n",
    "ax.axhline(y=0, color='r', linestyle='--')\n",
    "plt.xlabel(' GMT Interval')\n",
    "plt.ylabel(' LMP')\n",
    "plt.title('SOUC Node LMP Over Time Jan 2022')\n",
    "\n",
    "plt.show()"
   ]
  },
  {
   "cell_type": "markdown",
   "id": "c5073188",
   "metadata": {},
   "source": [
    "# Identify where node is having a strong positve, negative, or indifferent bias:"
   ]
  },
  {
   "cell_type": "markdown",
   "id": "eaaf91cd",
   "metadata": {},
   "source": [
    "### By 5 minute period:"
   ]
  },
  {
   "cell_type": "code",
   "execution_count": 18,
   "id": "c82161d2",
   "metadata": {},
   "outputs": [],
   "source": [
    "#Function that groups jan_22_df by PNODE and time\n",
    "def group_by_pnode_and_time(df, time_freq):\n",
    "    unique_pnodes = df[' PNODE Name'].unique()\n",
    "    result_dfs = []\n",
    "    for pnode_name in unique_pnodes:\n",
    "        pnode_df = df[df[' PNODE Name'] == pnode_name]\n",
    "        pnode_df = pnode_df.set_index(' GMT Interval')\n",
    "        grouped_df = pnode_df.groupby([pd.Grouper(freq=time_freq), ' PNODE Name'])[' LMP'].mean()\n",
    "        grouped_df = grouped_df.reset_index()\n",
    "        result_dfs.append(grouped_df)\n",
    "    final_df = pd.concat(result_dfs)\n",
    "    return final_df"
   ]
  },
  {
   "cell_type": "code",
   "execution_count": 19,
   "id": "a9dde70f",
   "metadata": {},
   "outputs": [],
   "source": [
    "grouped_df = group_by_pnode_and_time(jan_22_df, '5Min')"
   ]
  },
  {
   "cell_type": "code",
   "execution_count": 59,
   "id": "7c3a18ff",
   "metadata": {},
   "outputs": [],
   "source": [
    "# Group the data by 5-minute intervals and calculate the mean for each 5 min period\n",
    "mean_by_5min = grouped_df.groupby(pd.Grouper(key=' GMT Interval', freq='5T'))[' LMP'].mean()\n",
    "mean_by_5min = pd.DataFrame(mean_by_5min)\n",
    "mean_by_5min = mean_by_5min.rename(columns={' LMP': 'Mean_LMP_overall'})"
   ]
  },
  {
   "cell_type": "code",
   "execution_count": 44,
   "id": "76dd2a50",
   "metadata": {},
   "outputs": [],
   "source": [
    "merged_df = pd.merge(grouped_df, mean_by_5min, on=' GMT Interval')\n",
    "merged_df['Bias'] = merged_df[' LMP'] - merged_df['Mean_LMP_overall']\n",
    "merged_df['std'] = np.std(merged_df['Mean_LMP_overall'])\n",
    "merged_df['upper_bound'] = merged_df['Mean_LMP_overall'] + (2 * merged_df['std'])\n",
    "merged_df['lower_bound'] = merged_df['Mean_LMP_overall'] - (2 * merged_df['std'])\n",
    "#Dummies for strong positive/ negative and indifferent 1 = yes\n",
    "merged_df['strong_positive'] = np.where(merged_df[' LMP'] > merged_df['upper_bound'], 1, 0)\n",
    "merged_df['strong_negative'] = np.where(merged_df[' LMP'] < merged_df['lower_bound'], 1, 0)\n",
    "merged_df['indifferent'] = np.where(merged_df['Mean_LMP_overall'] == merged_df[' LMP'],1,0)\n",
    "#lower_bound = mean - (2 * std)\n",
    "pd.set_option('display.max_rows', None)"
   ]
  },
  {
   "cell_type": "markdown",
   "id": "ebeedfcb",
   "metadata": {},
   "source": [
    "### Strong Positive"
   ]
  },
  {
   "cell_type": "code",
   "execution_count": 70,
   "id": "75b2f7c8",
   "metadata": {},
   "outputs": [
    {
     "data": {
      "text/html": [
       "<div>\n",
       "<style scoped>\n",
       "    .dataframe tbody tr th:only-of-type {\n",
       "        vertical-align: middle;\n",
       "    }\n",
       "\n",
       "    .dataframe tbody tr th {\n",
       "        vertical-align: top;\n",
       "    }\n",
       "\n",
       "    .dataframe thead th {\n",
       "        text-align: right;\n",
       "    }\n",
       "</style>\n",
       "<table border=\"1\" class=\"dataframe\">\n",
       "  <thead>\n",
       "    <tr style=\"text-align: right;\">\n",
       "      <th></th>\n",
       "      <th>GMT Interval</th>\n",
       "      <th>PNODE Name</th>\n",
       "      <th>LMP</th>\n",
       "      <th>Mean_LMP_overall</th>\n",
       "      <th>Bias</th>\n",
       "      <th>std</th>\n",
       "      <th>upper_bound</th>\n",
       "      <th>lower_bound</th>\n",
       "      <th>strong_positive</th>\n",
       "      <th>strong_negative</th>\n",
       "      <th>indifferent</th>\n",
       "    </tr>\n",
       "  </thead>\n",
       "  <tbody>\n",
       "    <tr>\n",
       "      <th>62</th>\n",
       "      <td>2022-01-01 06:05:00</td>\n",
       "      <td>CSWSTUSKAHOMUNWILDHORSE_RA</td>\n",
       "      <td>105.4529</td>\n",
       "      <td>-1.088229</td>\n",
       "      <td>106.541129</td>\n",
       "      <td>36.350496</td>\n",
       "      <td>71.612763</td>\n",
       "      <td>-73.78922</td>\n",
       "      <td>1</td>\n",
       "      <td>0</td>\n",
       "      <td>0</td>\n",
       "    </tr>\n",
       "    <tr>\n",
       "      <th>87</th>\n",
       "      <td>2022-01-01 06:05:00</td>\n",
       "      <td>IDABEL_DDR</td>\n",
       "      <td>71.8314</td>\n",
       "      <td>-1.088229</td>\n",
       "      <td>72.919629</td>\n",
       "      <td>36.350496</td>\n",
       "      <td>71.612763</td>\n",
       "      <td>-73.78922</td>\n",
       "      <td>1</td>\n",
       "      <td>0</td>\n",
       "      <td>0</td>\n",
       "    </tr>\n",
       "    <tr>\n",
       "      <th>92</th>\n",
       "      <td>2022-01-01 06:05:00</td>\n",
       "      <td>LEHIGH_DDR</td>\n",
       "      <td>354.1607</td>\n",
       "      <td>-1.088229</td>\n",
       "      <td>355.248929</td>\n",
       "      <td>36.350496</td>\n",
       "      <td>71.612763</td>\n",
       "      <td>-73.78922</td>\n",
       "      <td>1</td>\n",
       "      <td>0</td>\n",
       "      <td>0</td>\n",
       "    </tr>\n",
       "    <tr>\n",
       "      <th>100</th>\n",
       "      <td>2022-01-01 06:05:00</td>\n",
       "      <td>MCALESTR_DDR</td>\n",
       "      <td>97.0676</td>\n",
       "      <td>-1.088229</td>\n",
       "      <td>98.155829</td>\n",
       "      <td>36.350496</td>\n",
       "      <td>71.612763</td>\n",
       "      <td>-73.78922</td>\n",
       "      <td>1</td>\n",
       "      <td>0</td>\n",
       "      <td>0</td>\n",
       "    </tr>\n",
       "    <tr>\n",
       "      <th>517</th>\n",
       "      <td>2022-01-01 06:05:00</td>\n",
       "      <td>BODLE_DDR</td>\n",
       "      <td>143.0854</td>\n",
       "      <td>-1.088229</td>\n",
       "      <td>144.173629</td>\n",
       "      <td>36.350496</td>\n",
       "      <td>71.612763</td>\n",
       "      <td>-73.78922</td>\n",
       "      <td>1</td>\n",
       "      <td>0</td>\n",
       "      <td>0</td>\n",
       "    </tr>\n",
       "  </tbody>\n",
       "</table>\n",
       "</div>"
      ],
      "text/plain": [
       "           GMT Interval                  PNODE Name       LMP  \\\n",
       "62  2022-01-01 06:05:00  CSWSTUSKAHOMUNWILDHORSE_RA  105.4529   \n",
       "87  2022-01-01 06:05:00                  IDABEL_DDR   71.8314   \n",
       "92  2022-01-01 06:05:00                  LEHIGH_DDR  354.1607   \n",
       "100 2022-01-01 06:05:00                MCALESTR_DDR   97.0676   \n",
       "517 2022-01-01 06:05:00                   BODLE_DDR  143.0854   \n",
       "\n",
       "     Mean_LMP_overall        Bias        std  upper_bound  lower_bound  \\\n",
       "62          -1.088229  106.541129  36.350496    71.612763    -73.78922   \n",
       "87          -1.088229   72.919629  36.350496    71.612763    -73.78922   \n",
       "92          -1.088229  355.248929  36.350496    71.612763    -73.78922   \n",
       "100         -1.088229   98.155829  36.350496    71.612763    -73.78922   \n",
       "517         -1.088229  144.173629  36.350496    71.612763    -73.78922   \n",
       "\n",
       "     strong_positive  strong_negative  indifferent  \n",
       "62                 1                0            0  \n",
       "87                 1                0            0  \n",
       "92                 1                0            0  \n",
       "100                1                0            0  \n",
       "517                1                0            0  "
      ]
     },
     "execution_count": 70,
     "metadata": {},
     "output_type": "execute_result"
    }
   ],
   "source": [
    "strong_positive_df = merged_df[merged_df['strong_positive'] == 1]\n",
    "#Print first 4 Results of dataframe\n",
    "strong_positive_df.head()"
   ]
  },
  {
   "cell_type": "code",
   "execution_count": 49,
   "id": "fa504f63",
   "metadata": {},
   "outputs": [
    {
     "name": "stdout",
     "output_type": "stream",
     "text": [
      "Number of observations that fall within strong positive: 168880\n"
     ]
    }
   ],
   "source": [
    "print('Number of observations that fall within strong positive:',strong_positive_df.shape[0])"
   ]
  },
  {
   "cell_type": "code",
   "execution_count": 64,
   "id": "1a59ef6d",
   "metadata": {},
   "outputs": [
    {
     "data": {
      "text/plain": [
       "PSLO_MISO_WAUE_MPCN_LA            2292\n",
       "BODLE_DDR                         2266\n",
       "WFECTHOMAS2UNCENTRAHMA_EAST_RA    2072\n",
       "WFECTHOMAS2UNCENTRAHOMA_RA        2072\n",
       "EDEOZRK_BUN6_RA                   2071\n",
       "EDEOZRK_BUN8_RA                   2071\n",
       "EDEOZRK_BUN5_RA                   2071\n",
       "EDEOZRK_BUN7_RA                   2071\n",
       "WFEC_PEOP_LOAD_LA                 2040\n",
       "LEHIGH_DDR                        2002\n",
       "WFECCOLGATEUNLITTLEDIXIE_RA       1788\n",
       "EDE_SWMP_LA                       1552\n",
       "KCPLNORTH5UN6_RA                  1442\n",
       "SPRM_NIXA_LA                      1438\n",
       "SPRM_LA                           1412\n",
       "SPRMSWPS5UN2_RA                   1386\n",
       "SPRMSWPS5UN1_RA                   1386\n",
       "SPRMSWPS5UNG1_RA                  1385\n",
       "SPRMSWPS5UNUN_2_RA                1384\n",
       "SPRMJRPS5UN6_RA                   1378\n",
       "Name:  PNODE Name, dtype: int64"
      ]
     },
     "execution_count": 64,
     "metadata": {},
     "output_type": "execute_result"
    }
   ],
   "source": [
    "#Number of times that a pnode appears in strong positive\n",
    "count_by_pnode_name = strong_positive_df[' PNODE Name'].value_counts()\n",
    "#Print top 20\n",
    "count_by_pnode_name.head(20)"
   ]
  },
  {
   "cell_type": "markdown",
   "id": "2f6c0abf",
   "metadata": {},
   "source": [
    "### Strong negative"
   ]
  },
  {
   "cell_type": "code",
   "execution_count": 69,
   "id": "eef2d878",
   "metadata": {},
   "outputs": [
    {
     "data": {
      "text/html": [
       "<div>\n",
       "<style scoped>\n",
       "    .dataframe tbody tr th:only-of-type {\n",
       "        vertical-align: middle;\n",
       "    }\n",
       "\n",
       "    .dataframe tbody tr th {\n",
       "        vertical-align: top;\n",
       "    }\n",
       "\n",
       "    .dataframe thead th {\n",
       "        text-align: right;\n",
       "    }\n",
       "</style>\n",
       "<table border=\"1\" class=\"dataframe\">\n",
       "  <thead>\n",
       "    <tr style=\"text-align: right;\">\n",
       "      <th></th>\n",
       "      <th>GMT Interval</th>\n",
       "      <th>PNODE Name</th>\n",
       "      <th>LMP</th>\n",
       "      <th>Mean_LMP_overall</th>\n",
       "      <th>Bias</th>\n",
       "      <th>std</th>\n",
       "      <th>upper_bound</th>\n",
       "      <th>lower_bound</th>\n",
       "      <th>strong_positive</th>\n",
       "      <th>strong_negative</th>\n",
       "      <th>indifferent</th>\n",
       "    </tr>\n",
       "  </thead>\n",
       "  <tbody>\n",
       "    <tr>\n",
       "      <th>62</th>\n",
       "      <td>2022-01-01 06:05:00</td>\n",
       "      <td>CSWSTUSKAHOMUNWILDHORSE_RA</td>\n",
       "      <td>105.4529</td>\n",
       "      <td>-1.088229</td>\n",
       "      <td>106.541129</td>\n",
       "      <td>36.350496</td>\n",
       "      <td>71.612763</td>\n",
       "      <td>-73.78922</td>\n",
       "      <td>1</td>\n",
       "      <td>0</td>\n",
       "      <td>0</td>\n",
       "    </tr>\n",
       "    <tr>\n",
       "      <th>87</th>\n",
       "      <td>2022-01-01 06:05:00</td>\n",
       "      <td>IDABEL_DDR</td>\n",
       "      <td>71.8314</td>\n",
       "      <td>-1.088229</td>\n",
       "      <td>72.919629</td>\n",
       "      <td>36.350496</td>\n",
       "      <td>71.612763</td>\n",
       "      <td>-73.78922</td>\n",
       "      <td>1</td>\n",
       "      <td>0</td>\n",
       "      <td>0</td>\n",
       "    </tr>\n",
       "    <tr>\n",
       "      <th>92</th>\n",
       "      <td>2022-01-01 06:05:00</td>\n",
       "      <td>LEHIGH_DDR</td>\n",
       "      <td>354.1607</td>\n",
       "      <td>-1.088229</td>\n",
       "      <td>355.248929</td>\n",
       "      <td>36.350496</td>\n",
       "      <td>71.612763</td>\n",
       "      <td>-73.78922</td>\n",
       "      <td>1</td>\n",
       "      <td>0</td>\n",
       "      <td>0</td>\n",
       "    </tr>\n",
       "    <tr>\n",
       "      <th>100</th>\n",
       "      <td>2022-01-01 06:05:00</td>\n",
       "      <td>MCALESTR_DDR</td>\n",
       "      <td>97.0676</td>\n",
       "      <td>-1.088229</td>\n",
       "      <td>98.155829</td>\n",
       "      <td>36.350496</td>\n",
       "      <td>71.612763</td>\n",
       "      <td>-73.78922</td>\n",
       "      <td>1</td>\n",
       "      <td>0</td>\n",
       "      <td>0</td>\n",
       "    </tr>\n",
       "    <tr>\n",
       "      <th>517</th>\n",
       "      <td>2022-01-01 06:05:00</td>\n",
       "      <td>BODLE_DDR</td>\n",
       "      <td>143.0854</td>\n",
       "      <td>-1.088229</td>\n",
       "      <td>144.173629</td>\n",
       "      <td>36.350496</td>\n",
       "      <td>71.612763</td>\n",
       "      <td>-73.78922</td>\n",
       "      <td>1</td>\n",
       "      <td>0</td>\n",
       "      <td>0</td>\n",
       "    </tr>\n",
       "  </tbody>\n",
       "</table>\n",
       "</div>"
      ],
      "text/plain": [
       "           GMT Interval                  PNODE Name       LMP  \\\n",
       "62  2022-01-01 06:05:00  CSWSTUSKAHOMUNWILDHORSE_RA  105.4529   \n",
       "87  2022-01-01 06:05:00                  IDABEL_DDR   71.8314   \n",
       "92  2022-01-01 06:05:00                  LEHIGH_DDR  354.1607   \n",
       "100 2022-01-01 06:05:00                MCALESTR_DDR   97.0676   \n",
       "517 2022-01-01 06:05:00                   BODLE_DDR  143.0854   \n",
       "\n",
       "     Mean_LMP_overall        Bias        std  upper_bound  lower_bound  \\\n",
       "62          -1.088229  106.541129  36.350496    71.612763    -73.78922   \n",
       "87          -1.088229   72.919629  36.350496    71.612763    -73.78922   \n",
       "92          -1.088229  355.248929  36.350496    71.612763    -73.78922   \n",
       "100         -1.088229   98.155829  36.350496    71.612763    -73.78922   \n",
       "517         -1.088229  144.173629  36.350496    71.612763    -73.78922   \n",
       "\n",
       "     strong_positive  strong_negative  indifferent  \n",
       "62                 1                0            0  \n",
       "87                 1                0            0  \n",
       "92                 1                0            0  \n",
       "100                1                0            0  \n",
       "517                1                0            0  "
      ]
     },
     "execution_count": 69,
     "metadata": {},
     "output_type": "execute_result"
    }
   ],
   "source": [
    "strong_negative_df = merged_df[merged_df['strong_negative'] == 1]\n",
    "strong_positive_df.head()"
   ]
  },
  {
   "cell_type": "code",
   "execution_count": 51,
   "id": "f5edf67e",
   "metadata": {},
   "outputs": [
    {
     "name": "stdout",
     "output_type": "stream",
     "text": [
      "Number of observations that fall within strong negative: 98916\n"
     ]
    }
   ],
   "source": [
    "print('Number of observations that fall within strong negative:',strong_negative_df.shape[0])"
   ]
  },
  {
   "cell_type": "code",
   "execution_count": 67,
   "id": "b9f86069",
   "metadata": {},
   "outputs": [
    {
     "data": {
      "text/plain": [
       "EDELAR3821UN4_RA                   1082\n",
       "EDELAR3821UN3_RA                   1082\n",
       "EDELAR3821UN1_RA                   1082\n",
       "EDELAR3821UNKINGSPNT_RA            1082\n",
       "EDELAR3821UN2_RA                   1082\n",
       "WRCOLBY3UNGST_RA                    905\n",
       "V116_DDR                            609\n",
       "V112_DDR                            602\n",
       "OKGE.VOLT.0032_H                    600\n",
       "OKGEMCCLAIPLT1                      600\n",
       "OPPDSUB1399UNFLATWTR_WIND_RA        591\n",
       "PLVALLEY_DDR                        588\n",
       "WR.VOLT.0016_H                      538\n",
       "OPPD_MEAN_FCU_LA                    528\n",
       "OKGECIMARRONUNCANADN5_WIND_RA       526\n",
       "OKGECIMARRONUNKINGFSHR_WIND1_RA     526\n",
       "OKGECIMARRONUNCANADN1_WIND_RA       526\n",
       "GRDACMRN_GRDLDCANADN3_WIND_RA       526\n",
       "OKGECIMARRONUNCANADN4_WIND_RA       526\n",
       "OKGECIMARRONUNCANADN2_WIND_RA       526\n",
       "Name:  PNODE Name, dtype: int64"
      ]
     },
     "execution_count": 67,
     "metadata": {},
     "output_type": "execute_result"
    }
   ],
   "source": [
    "#Number of times that a pnode appears in strong negative\n",
    "count_by_pnode_name = strong_negative_df[' PNODE Name'].value_counts()\n",
    "#Print top 20\n",
    "count_by_pnode_name.head(20)"
   ]
  },
  {
   "cell_type": "markdown",
   "id": "4db8cf16",
   "metadata": {},
   "source": [
    "### Indifferent"
   ]
  },
  {
   "cell_type": "code",
   "execution_count": 68,
   "id": "63898592",
   "metadata": {},
   "outputs": [
    {
     "data": {
      "text/html": [
       "<div>\n",
       "<style scoped>\n",
       "    .dataframe tbody tr th:only-of-type {\n",
       "        vertical-align: middle;\n",
       "    }\n",
       "\n",
       "    .dataframe tbody tr th {\n",
       "        vertical-align: top;\n",
       "    }\n",
       "\n",
       "    .dataframe thead th {\n",
       "        text-align: right;\n",
       "    }\n",
       "</style>\n",
       "<table border=\"1\" class=\"dataframe\">\n",
       "  <thead>\n",
       "    <tr style=\"text-align: right;\">\n",
       "      <th></th>\n",
       "      <th>GMT Interval</th>\n",
       "      <th>PNODE Name</th>\n",
       "      <th>LMP</th>\n",
       "      <th>Mean_LMP_overall</th>\n",
       "      <th>Bias</th>\n",
       "      <th>std</th>\n",
       "      <th>upper_bound</th>\n",
       "      <th>lower_bound</th>\n",
       "      <th>strong_positive</th>\n",
       "      <th>strong_negative</th>\n",
       "      <th>indifferent</th>\n",
       "    </tr>\n",
       "  </thead>\n",
       "  <tbody>\n",
       "    <tr>\n",
       "      <th>5004895</th>\n",
       "      <td>2022-01-17 16:40:00</td>\n",
       "      <td>SOUC</td>\n",
       "      <td>0.0001</td>\n",
       "      <td>0.0001</td>\n",
       "      <td>0.0</td>\n",
       "      <td>36.350496</td>\n",
       "      <td>72.701092</td>\n",
       "      <td>-72.700892</td>\n",
       "      <td>0</td>\n",
       "      <td>0</td>\n",
       "      <td>1</td>\n",
       "    </tr>\n",
       "    <tr>\n",
       "      <th>5004896</th>\n",
       "      <td>2022-01-17 16:40:00</td>\n",
       "      <td>CSWS_AECC_LA</td>\n",
       "      <td>0.0001</td>\n",
       "      <td>0.0001</td>\n",
       "      <td>0.0</td>\n",
       "      <td>36.350496</td>\n",
       "      <td>72.701092</td>\n",
       "      <td>-72.700892</td>\n",
       "      <td>0</td>\n",
       "      <td>0</td>\n",
       "      <td>1</td>\n",
       "    </tr>\n",
       "    <tr>\n",
       "      <th>5004897</th>\n",
       "      <td>2022-01-17 16:40:00</td>\n",
       "      <td>CSWSELKINSUNELKINS_RA</td>\n",
       "      <td>0.0001</td>\n",
       "      <td>0.0001</td>\n",
       "      <td>0.0</td>\n",
       "      <td>36.350496</td>\n",
       "      <td>72.701092</td>\n",
       "      <td>-72.700892</td>\n",
       "      <td>0</td>\n",
       "      <td>0</td>\n",
       "      <td>1</td>\n",
       "    </tr>\n",
       "    <tr>\n",
       "      <th>5004898</th>\n",
       "      <td>2022-01-17 16:40:00</td>\n",
       "      <td>CSWSFITZHUGHPLT1</td>\n",
       "      <td>0.0001</td>\n",
       "      <td>0.0001</td>\n",
       "      <td>0.0</td>\n",
       "      <td>36.350496</td>\n",
       "      <td>72.701092</td>\n",
       "      <td>-72.700892</td>\n",
       "      <td>0</td>\n",
       "      <td>0</td>\n",
       "      <td>1</td>\n",
       "    </tr>\n",
       "    <tr>\n",
       "      <th>5004899</th>\n",
       "      <td>2022-01-17 16:40:00</td>\n",
       "      <td>CSWSFLINTCRKUN1_JOU_AECC_RA</td>\n",
       "      <td>0.0001</td>\n",
       "      <td>0.0001</td>\n",
       "      <td>0.0</td>\n",
       "      <td>36.350496</td>\n",
       "      <td>72.701092</td>\n",
       "      <td>-72.700892</td>\n",
       "      <td>0</td>\n",
       "      <td>0</td>\n",
       "      <td>1</td>\n",
       "    </tr>\n",
       "  </tbody>\n",
       "</table>\n",
       "</div>"
      ],
      "text/plain": [
       "               GMT Interval                   PNODE Name     LMP  \\\n",
       "5004895 2022-01-17 16:40:00                         SOUC  0.0001   \n",
       "5004896 2022-01-17 16:40:00                 CSWS_AECC_LA  0.0001   \n",
       "5004897 2022-01-17 16:40:00        CSWSELKINSUNELKINS_RA  0.0001   \n",
       "5004898 2022-01-17 16:40:00             CSWSFITZHUGHPLT1  0.0001   \n",
       "5004899 2022-01-17 16:40:00  CSWSFLINTCRKUN1_JOU_AECC_RA  0.0001   \n",
       "\n",
       "         Mean_LMP_overall  Bias        std  upper_bound  lower_bound  \\\n",
       "5004895            0.0001   0.0  36.350496    72.701092   -72.700892   \n",
       "5004896            0.0001   0.0  36.350496    72.701092   -72.700892   \n",
       "5004897            0.0001   0.0  36.350496    72.701092   -72.700892   \n",
       "5004898            0.0001   0.0  36.350496    72.701092   -72.700892   \n",
       "5004899            0.0001   0.0  36.350496    72.701092   -72.700892   \n",
       "\n",
       "         strong_positive  strong_negative  indifferent  \n",
       "5004895                0                0            1  \n",
       "5004896                0                0            1  \n",
       "5004897                0                0            1  \n",
       "5004898                0                0            1  \n",
       "5004899                0                0            1  "
      ]
     },
     "execution_count": 68,
     "metadata": {},
     "output_type": "execute_result"
    }
   ],
   "source": [
    "indifferent_df = merged_df[merged_df['indifferent'] == 1]\n",
    "indifferent_df.head()"
   ]
  },
  {
   "cell_type": "code",
   "execution_count": 55,
   "id": "a11a69c2",
   "metadata": {},
   "outputs": [
    {
     "name": "stdout",
     "output_type": "stream",
     "text": [
      "Number of observations that have indifferent bias: 2114\n"
     ]
    }
   ],
   "source": [
    "print('Number of observations that have indifferent bias:',indifferent_df.shape[0])"
   ]
  }
 ],
 "metadata": {
  "kernelspec": {
   "display_name": "Python 3 (ipykernel)",
   "language": "python",
   "name": "python3"
  },
  "language_info": {
   "codemirror_mode": {
    "name": "ipython",
    "version": 3
   },
   "file_extension": ".py",
   "mimetype": "text/x-python",
   "name": "python",
   "nbconvert_exporter": "python",
   "pygments_lexer": "ipython3",
   "version": "3.8.8"
  }
 },
 "nbformat": 4,
 "nbformat_minor": 5
}
